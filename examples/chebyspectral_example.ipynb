{
 "cells": [
  {
   "cell_type": "markdown",
   "id": "a524146f",
   "metadata": {},
   "source": [
    "## Solving an ODE using the Chebyshev spectral method\n",
    "\n",
    "This notebook uses the module `chebyspectral.py` which contains functions for the computation of spectral coefficients and differentiation matrices. \n",
    "\n",
    "The differential equation to be solved is\n",
    "$$ \\frac{d^2u}{dx^2} -4\\frac{du}{dx} + 4u = e^x -\\frac{4e}{1+e^2} $$\n",
    "with $u\\in [-1, 1]$ and boundary conditions\n",
    "\n",
    "$ u(-1)=0 $ and $ u(1)=0 $.\n",
    "\n",
    "First, we import the required modules"
   ]
  },
  {
   "cell_type": "code",
   "execution_count": 2,
   "id": "1c900b51",
   "metadata": {},
   "outputs": [],
   "source": [
    "import sys\n",
    "sys.path.append('..')\n",
    "import numpy as np\n",
    "import matplotlib.pyplot as plt\n",
    "from chebyspectral import *"
   ]
  },
  {
   "cell_type": "markdown",
   "id": "c9ed09e9",
   "metadata": {},
   "source": [
    "The parameter that influences the precision of the approximation is `deg` and it defines the polynomial degree of the solution"
   ]
  },
  {
   "cell_type": "code",
   "execution_count": 3,
   "id": "3309d403",
   "metadata": {},
   "outputs": [],
   "source": [
    "deg = 16  # degree of Chebyshev polynomial"
   ]
  },
  {
   "cell_type": "markdown",
   "id": "2f76fcb8",
   "metadata": {},
   "source": [
    "We use the Tau method to solve the ODE, which requires the conversion of the right-hand side to its spectral coefficients. This is easily done with the function `chebfit`"
   ]
  },
  {
   "cell_type": "code",
   "execution_count": 4,
   "id": "d5c8c9b0",
   "metadata": {},
   "outputs": [],
   "source": [
    "# Source term\n",
    "C = -4*np.exp(1)/(1+np.exp(2))\n",
    "s = lambda xq: np.exp(xq) + C\n",
    "sTilde = chebfit(s, deg)"
   ]
  },
  {
   "cell_type": "markdown",
   "id": "ac86f8d9",
   "metadata": {},
   "source": [
    "We can check how well `chebfit` approximated the function by converting it back to a function of x. This is done using the function `chebeval`"
   ]
  },
  {
   "cell_type": "code",
   "execution_count": 5,
   "id": "55208eae",
   "metadata": {},
   "outputs": [
    {
     "data": {
      "text/plain": [
       "Text(0, 0.5, 'f(x)')"
      ]
     },
     "execution_count": 5,
     "metadata": {},
     "output_type": "execute_result"
    },
    {
     "data": {
      "image/png": "[encoded data removed]",
      "text/plain": [
       "<Figure size 432x288 with 1 Axes>"
      ]
     },
     "metadata": {
      "needs_background": "light"
     },
     "output_type": "display_data"
    }
   ],
   "source": [
    "N = 100\n",
    "x = np.linspace(-1, 1, N)\n",
    "\n",
    "fig, ax = plt.subplots()\n",
    "ax.plot(x,chebeval(sTilde, x),'b',label='Approximation')\n",
    "ax.plot(x,s(x),'r--', label='Exact')\n",
    "handles, labels = ax.get_legend_handles_labels()\n",
    "ax.legend(handles, labels)\n",
    "plt.xlabel('x')\n",
    "plt.ylabel('f(x)')"
   ]
  },
  {
   "cell_type": "markdown",
   "id": "fb7eb1f2",
   "metadata": {},
   "source": [
    "Clearly the approximation is visually indiscernible from the original function.\n",
    "\n",
    "Next we implement the boundary conditions. Each boundary condition will need to be supplied in the form of a list of the form\n",
    "\n",
    "[`value`, `derivative order`, `position`, `axis`]\n",
    "\n",
    "- `value` specifies the function value of the boundary condition. This can be a scalar (for ODEs) or a function (for PDEs).\n",
    "- `derivarive order` specifies if the BC is of dirichlet type (0) or Neumann type (1). Here we only use dirichlet boundary conditions.\n",
    "- `position` specifies the x value at which the boundary condition is applied, here x=-1 and x=1.\n",
    "- `axis` specifies the independent parameter. Since this is an ODE, both values belong to the same axis."
   ]
  },
  {
   "cell_type": "code",
   "execution_count": 6,
   "id": "e55e447c",
   "metadata": {},
   "outputs": [],
   "source": [
    "# Boundary conditions\n",
    "bc_value_1 = 0\n",
    "bc_derivative_order_1 = 0  # Dirichlet (0th order derivative)\n",
    "bc_position_1 = -1\n",
    "bc_axis_1 = 0\n",
    "bc_1 = [bc_value_1, bc_derivative_order_1, bc_position_1, bc_axis_1]\n",
    "\n",
    "bc_value_2 = 0\n",
    "bc_derivative_order_2 = 0 # Dirichlet\n",
    "bc_position_2 = 1\n",
    "bc_axis_2 = 0\n",
    "bc_2 = [bc_value_2, bc_derivative_order_2, bc_position_2, bc_axis_2]"
   ]
  },
  {
   "cell_type": "markdown",
   "id": "f10c8a10",
   "metadata": {},
   "source": [
    "Next we compute the Chebyshev differentiation matrix. The function `chebdiff` automatically computes the matrix if we supply the coefficients of the linear operator in the variable `l_operator`. In the case of our ODE, this is \n",
    "\n",
    "$$ L = \\frac{d^2}{dx^2} -4\\frac{d}{dx} + 4 $$ which is encoded in `l_operator` as [4, -4, 1]. The first entry in the list corresponds to the coefficient of the 0th derivative, the second coefficient to the 1st derivative, and so on. After computing the differentiation matrix, we apply the previously defined boundary conditions to it using the function `chebbc`."
   ]
  },
  {
   "cell_type": "code",
   "execution_count": 7,
   "id": "79eac90f",
   "metadata": {},
   "outputs": [],
   "source": [
    "# Differentiation matrix\n",
    "l_operator = [4, -4, 1]\n",
    "L = chebdiff(l_operator, deg)\n",
    "L, sTilde = chebbc(L, sTilde, [bc_1, bc_2])"
   ]
  },
  {
   "cell_type": "markdown",
   "id": "b25ce5c8",
   "metadata": {},
   "source": [
    "What remains is to compute the spectral coefficients of the solution by inverting $L$ and multiplying it by the coefficients of the right-hand side, $\\tilde{s}$."
   ]
  },
  {
   "cell_type": "code",
   "execution_count": 8,
   "id": "8537b078",
   "metadata": {},
   "outputs": [],
   "source": [
    "# Compute solution\n",
    "uTilde = np.dot(np.linalg.pinv(L), sTilde)"
   ]
  },
  {
   "cell_type": "markdown",
   "id": "e5a6316a",
   "metadata": {},
   "source": [
    "Using `chebeval` we can convert the coefficients back to a function of x and compare the spectral solution to the analytical solution. Again, the two solutions are visually indistinguishable as shown below."
   ]
  },
  {
   "cell_type": "code",
   "execution_count": 9,
   "id": "f7a07ed0",
   "metadata": {},
   "outputs": [
    {
     "data": {
      "text/plain": [
       "Text(0, 0.5, 'f(x)')"
      ]
     },
     "execution_count": 9,
     "metadata": {},
     "output_type": "execute_result"
    },
    {
     "data": {
      "image/png": "[encoded data removed]",
      "text/plain": [
       "<Figure size 432x288 with 1 Axes>"
      ]
     },
     "metadata": {
      "needs_background": "light"
     },
     "output_type": "display_data"
    }
   ],
   "source": [
    "# Plot solution\n",
    "fig, ax = plt.subplots()\n",
    "ax.plot(x, chebeval(uTilde, x), 'b', label='Approximation')\n",
    "ax.plot(x, np.exp(x)-np.sinh(1)/np.sinh(2)*np.exp(2*x) + C/4, 'r--', label='Exact')\n",
    "handles, labels = ax.get_legend_handles_labels()\n",
    "ax.legend(handles, labels)\n",
    "plt.xlabel('x')\n",
    "plt.ylabel('f(x)')"
   ]
  }
 ],
 "metadata": {
  "kernelspec": {
   "display_name": "Python 3 (ipykernel)",
   "language": "python",
   "name": "python3"
  },
  "language_info": {
   "codemirror_mode": {
    "name": "ipython",
    "version": 3
   },
   "file_extension": ".py",
   "mimetype": "text/x-python",
   "name": "python",
   "nbconvert_exporter": "python",
   "pygments_lexer": "ipython3",
   "version": "3.9.10"
  }
 },
 "nbformat": 4,
 "nbformat_minor": 5
}
